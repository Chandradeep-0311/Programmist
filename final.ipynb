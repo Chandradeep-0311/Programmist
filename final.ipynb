{
 "cells": [
  {
   "cell_type": "code",
   "execution_count": 1,
   "metadata": {
    "collapsed": true
   },
   "outputs": [],
   "source": [
    "from PIL import Image\n",
    "import pytesseract"
   ]
  },
  {
   "cell_type": "code",
   "execution_count": 3,
   "metadata": {},
   "outputs": [],
   "source": [
    "img = Image.open(\"11.png\")"
   ]
  },
  {
   "cell_type": "code",
   "execution_count": 4,
   "metadata": {
    "collapsed": true
   },
   "outputs": [],
   "source": [
    "pytesseract.pytesseract.tesseract_cmd = 'C:/Program Files (x86)/Tesseract-OCR/tesseract'"
   ]
  },
  {
   "cell_type": "code",
   "execution_count": 5,
   "metadata": {
    "collapsed": true
   },
   "outputs": [],
   "source": [
    "result = pytesseract.image_to_string(img)"
   ]
  },
  {
   "cell_type": "code",
   "execution_count": 6,
   "metadata": {},
   "outputs": [
    {
     "name": "stdout",
     "output_type": "stream",
     "text": [
      "PS LIGHTWEIGHT US Postage\n",
      "PAID\n",
      "\n",
      "Global Mail\n",
      "\n",
      "Time Sensitive Material\n",
      "\n",
      "eVS\n",
      "GRND\n",
      "\n",
      "\"||\"|||||H |\"||||\"|”|||||||\" Fonmarding Senﬁce Requested\n",
      "\n",
      "DHL 4083107402581199\n",
      "\n",
      "Mr. Returns\n",
      "1500 South Point Dr.\n",
      "Forest Park GA 30297\n",
      "\n",
      "Joe Bloggs\n",
      "4552 OLD DIXIE HWY\n",
      "\n",
      "BALTIMORE MD 21234\n",
      "USPS TRACKING # eVS\n",
      "\n",
      "9374 8901 0000 0003 9850 39\n",
      "\n",
      "Test 13464215501903\n"
     ]
    }
   ],
   "source": [
    "print(result)"
   ]
  },
  {
   "cell_type": "markdown",
   "metadata": {},
   "source": [
    "#with open ('ocr.txt', mode=\"w\") as file:\n",
    " #  file.write(result)\n",
    "  #  print(\" > see the output once\")"
   ]
  },
  {
   "cell_type": "code",
   "execution_count": 7,
   "metadata": {
    "collapsed": true
   },
   "outputs": [],
   "source": [
    "import io\n",
    "with io.open(\"ocr11.txt\", \"w\", encoding=\"utf-8\") as f:\n",
    "    f.write(result)"
   ]
  },
  {
   "cell_type": "code",
   "execution_count": null,
   "metadata": {
    "collapsed": true
   },
   "outputs": [],
   "source": []
  }
 ],
 "metadata": {
  "kernelspec": {
   "display_name": "Python 3",
   "language": "python",
   "name": "python3"
  },
  "language_info": {
   "codemirror_mode": {
    "name": "ipython",
    "version": 3
   },
   "file_extension": ".py",
   "mimetype": "text/x-python",
   "name": "python",
   "nbconvert_exporter": "python",
   "pygments_lexer": "ipython3",
   "version": "3.6.1"
  }
 },
 "nbformat": 4,
 "nbformat_minor": 2
}
